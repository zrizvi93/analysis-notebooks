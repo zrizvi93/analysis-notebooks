{
 "cells": [
  {
   "cell_type": "markdown",
   "metadata": {},
   "source": [
    "# Quantifying the impact of tenure on executive compensation, _a demonstration of statistical inference and hypothesis testing in linear regression_"
   ]
  },
  {
   "cell_type": "code",
   "execution_count": 36,
   "metadata": {},
   "outputs": [],
   "source": [
    "# dataset publicly available here: http://fmwww.bc.edu/ec-p/data/wooldridge/ceosal2.dta\n",
    "\n",
    "import os\n",
    "import pandas as pd\n",
    "import numpy as np\n",
    "import statsmodels.api as sm\n",
    "import statsmodels.formula.api as smf\n",
    "import matplotlib.pyplot as plt\n",
    "\n",
    "# used to calculate critical value for t-tests\n",
    "from scipy.stats import t\n",
    "\n",
    "# used to get SE residual \n",
    "from statsmodels.tools.eval_measures import rmse\n",
    "\n",
    "# used to get prediction interval bounds\n",
    "from statsmodels.sandbox.regression.predstd import wls_prediction_std\n"
   ]
  },
  {
   "cell_type": "code",
   "execution_count": 37,
   "metadata": {},
   "outputs": [],
   "source": [
    "ceosal_data=os.path.join(os.getcwd(),\"ceosal2.dta\")\n",
    "df = pd.read_stata(ceosal_data)"
   ]
  },
  {
   "cell_type": "code",
   "execution_count": 38,
   "metadata": {},
   "outputs": [
    {
     "data": {
      "text/html": [
       "<div>\n",
       "<style scoped>\n",
       "    .dataframe tbody tr th:only-of-type {\n",
       "        vertical-align: middle;\n",
       "    }\n",
       "\n",
       "    .dataframe tbody tr th {\n",
       "        vertical-align: top;\n",
       "    }\n",
       "\n",
       "    .dataframe thead th {\n",
       "        text-align: right;\n",
       "    }\n",
       "</style>\n",
       "<table border=\"1\" class=\"dataframe\">\n",
       "  <thead>\n",
       "    <tr style=\"text-align: right;\">\n",
       "      <th></th>\n",
       "      <th>salary</th>\n",
       "      <th>age</th>\n",
       "      <th>college</th>\n",
       "      <th>grad</th>\n",
       "      <th>comten</th>\n",
       "      <th>ceoten</th>\n",
       "      <th>sales</th>\n",
       "      <th>profits</th>\n",
       "      <th>mktval</th>\n",
       "      <th>lsalary</th>\n",
       "      <th>lsales</th>\n",
       "      <th>lmktval</th>\n",
       "      <th>comtensq</th>\n",
       "      <th>ceotensq</th>\n",
       "      <th>profmarg</th>\n",
       "    </tr>\n",
       "  </thead>\n",
       "  <tbody>\n",
       "    <tr>\n",
       "      <th>0</th>\n",
       "      <td>1161</td>\n",
       "      <td>49</td>\n",
       "      <td>1</td>\n",
       "      <td>1</td>\n",
       "      <td>9</td>\n",
       "      <td>2</td>\n",
       "      <td>6200.0</td>\n",
       "      <td>966</td>\n",
       "      <td>23200.0</td>\n",
       "      <td>7.057037</td>\n",
       "      <td>8.732305</td>\n",
       "      <td>10.051908</td>\n",
       "      <td>81</td>\n",
       "      <td>4</td>\n",
       "      <td>15.580646</td>\n",
       "    </tr>\n",
       "    <tr>\n",
       "      <th>1</th>\n",
       "      <td>600</td>\n",
       "      <td>43</td>\n",
       "      <td>1</td>\n",
       "      <td>1</td>\n",
       "      <td>10</td>\n",
       "      <td>10</td>\n",
       "      <td>283.0</td>\n",
       "      <td>48</td>\n",
       "      <td>1100.0</td>\n",
       "      <td>6.396930</td>\n",
       "      <td>5.645447</td>\n",
       "      <td>7.003066</td>\n",
       "      <td>100</td>\n",
       "      <td>100</td>\n",
       "      <td>16.961130</td>\n",
       "    </tr>\n",
       "    <tr>\n",
       "      <th>2</th>\n",
       "      <td>379</td>\n",
       "      <td>51</td>\n",
       "      <td>1</td>\n",
       "      <td>1</td>\n",
       "      <td>9</td>\n",
       "      <td>3</td>\n",
       "      <td>169.0</td>\n",
       "      <td>40</td>\n",
       "      <td>1100.0</td>\n",
       "      <td>5.937536</td>\n",
       "      <td>5.129899</td>\n",
       "      <td>7.003066</td>\n",
       "      <td>81</td>\n",
       "      <td>9</td>\n",
       "      <td>23.668638</td>\n",
       "    </tr>\n",
       "    <tr>\n",
       "      <th>3</th>\n",
       "      <td>651</td>\n",
       "      <td>55</td>\n",
       "      <td>1</td>\n",
       "      <td>0</td>\n",
       "      <td>22</td>\n",
       "      <td>22</td>\n",
       "      <td>1100.0</td>\n",
       "      <td>-54</td>\n",
       "      <td>1000.0</td>\n",
       "      <td>6.478509</td>\n",
       "      <td>7.003066</td>\n",
       "      <td>6.907755</td>\n",
       "      <td>484</td>\n",
       "      <td>484</td>\n",
       "      <td>-4.909091</td>\n",
       "    </tr>\n",
       "    <tr>\n",
       "      <th>4</th>\n",
       "      <td>497</td>\n",
       "      <td>44</td>\n",
       "      <td>1</td>\n",
       "      <td>1</td>\n",
       "      <td>8</td>\n",
       "      <td>6</td>\n",
       "      <td>351.0</td>\n",
       "      <td>28</td>\n",
       "      <td>387.0</td>\n",
       "      <td>6.208590</td>\n",
       "      <td>5.860786</td>\n",
       "      <td>5.958425</td>\n",
       "      <td>64</td>\n",
       "      <td>36</td>\n",
       "      <td>7.977208</td>\n",
       "    </tr>\n",
       "    <tr>\n",
       "      <th>...</th>\n",
       "      <td>...</td>\n",
       "      <td>...</td>\n",
       "      <td>...</td>\n",
       "      <td>...</td>\n",
       "      <td>...</td>\n",
       "      <td>...</td>\n",
       "      <td>...</td>\n",
       "      <td>...</td>\n",
       "      <td>...</td>\n",
       "      <td>...</td>\n",
       "      <td>...</td>\n",
       "      <td>...</td>\n",
       "      <td>...</td>\n",
       "      <td>...</td>\n",
       "      <td>...</td>\n",
       "    </tr>\n",
       "    <tr>\n",
       "      <th>172</th>\n",
       "      <td>264</td>\n",
       "      <td>63</td>\n",
       "      <td>1</td>\n",
       "      <td>0</td>\n",
       "      <td>42</td>\n",
       "      <td>3</td>\n",
       "      <td>334.0</td>\n",
       "      <td>43</td>\n",
       "      <td>480.0</td>\n",
       "      <td>5.575949</td>\n",
       "      <td>5.811141</td>\n",
       "      <td>6.173786</td>\n",
       "      <td>1764</td>\n",
       "      <td>9</td>\n",
       "      <td>12.874251</td>\n",
       "    </tr>\n",
       "    <tr>\n",
       "      <th>173</th>\n",
       "      <td>185</td>\n",
       "      <td>58</td>\n",
       "      <td>1</td>\n",
       "      <td>0</td>\n",
       "      <td>39</td>\n",
       "      <td>1</td>\n",
       "      <td>766.0</td>\n",
       "      <td>49</td>\n",
       "      <td>560.0</td>\n",
       "      <td>5.220356</td>\n",
       "      <td>6.641182</td>\n",
       "      <td>6.327937</td>\n",
       "      <td>1521</td>\n",
       "      <td>1</td>\n",
       "      <td>6.396867</td>\n",
       "    </tr>\n",
       "    <tr>\n",
       "      <th>174</th>\n",
       "      <td>387</td>\n",
       "      <td>71</td>\n",
       "      <td>1</td>\n",
       "      <td>1</td>\n",
       "      <td>32</td>\n",
       "      <td>13</td>\n",
       "      <td>432.0</td>\n",
       "      <td>28</td>\n",
       "      <td>477.0</td>\n",
       "      <td>5.958425</td>\n",
       "      <td>6.068426</td>\n",
       "      <td>6.167517</td>\n",
       "      <td>1024</td>\n",
       "      <td>169</td>\n",
       "      <td>6.481482</td>\n",
       "    </tr>\n",
       "    <tr>\n",
       "      <th>175</th>\n",
       "      <td>2220</td>\n",
       "      <td>63</td>\n",
       "      <td>1</td>\n",
       "      <td>1</td>\n",
       "      <td>18</td>\n",
       "      <td>18</td>\n",
       "      <td>277.0</td>\n",
       "      <td>-80</td>\n",
       "      <td>540.0</td>\n",
       "      <td>7.705263</td>\n",
       "      <td>5.624018</td>\n",
       "      <td>6.291569</td>\n",
       "      <td>324</td>\n",
       "      <td>324</td>\n",
       "      <td>-28.880867</td>\n",
       "    </tr>\n",
       "    <tr>\n",
       "      <th>176</th>\n",
       "      <td>445</td>\n",
       "      <td>69</td>\n",
       "      <td>1</td>\n",
       "      <td>0</td>\n",
       "      <td>23</td>\n",
       "      <td>0</td>\n",
       "      <td>249.0</td>\n",
       "      <td>31</td>\n",
       "      <td>828.0</td>\n",
       "      <td>6.098074</td>\n",
       "      <td>5.517453</td>\n",
       "      <td>6.719013</td>\n",
       "      <td>529</td>\n",
       "      <td>0</td>\n",
       "      <td>12.449800</td>\n",
       "    </tr>\n",
       "  </tbody>\n",
       "</table>\n",
       "<p>177 rows × 15 columns</p>\n",
       "</div>"
      ],
      "text/plain": [
       "     salary  age  college  grad  comten  ceoten   sales  profits   mktval  \\\n",
       "0      1161   49        1     1       9       2  6200.0      966  23200.0   \n",
       "1       600   43        1     1      10      10   283.0       48   1100.0   \n",
       "2       379   51        1     1       9       3   169.0       40   1100.0   \n",
       "3       651   55        1     0      22      22  1100.0      -54   1000.0   \n",
       "4       497   44        1     1       8       6   351.0       28    387.0   \n",
       "..      ...  ...      ...   ...     ...     ...     ...      ...      ...   \n",
       "172     264   63        1     0      42       3   334.0       43    480.0   \n",
       "173     185   58        1     0      39       1   766.0       49    560.0   \n",
       "174     387   71        1     1      32      13   432.0       28    477.0   \n",
       "175    2220   63        1     1      18      18   277.0      -80    540.0   \n",
       "176     445   69        1     0      23       0   249.0       31    828.0   \n",
       "\n",
       "      lsalary    lsales    lmktval  comtensq  ceotensq   profmarg  \n",
       "0    7.057037  8.732305  10.051908        81         4  15.580646  \n",
       "1    6.396930  5.645447   7.003066       100       100  16.961130  \n",
       "2    5.937536  5.129899   7.003066        81         9  23.668638  \n",
       "3    6.478509  7.003066   6.907755       484       484  -4.909091  \n",
       "4    6.208590  5.860786   5.958425        64        36   7.977208  \n",
       "..        ...       ...        ...       ...       ...        ...  \n",
       "172  5.575949  5.811141   6.173786      1764         9  12.874251  \n",
       "173  5.220356  6.641182   6.327937      1521         1   6.396867  \n",
       "174  5.958425  6.068426   6.167517      1024       169   6.481482  \n",
       "175  7.705263  5.624018   6.291569       324       324 -28.880867  \n",
       "176  6.098074  5.517453   6.719013       529         0  12.449800  \n",
       "\n",
       "[177 rows x 15 columns]"
      ]
     },
     "metadata": {},
     "output_type": "display_data"
    },
    {
     "data": {
      "image/png": "[encoded data removed]",
      "text/plain": [
       "<Figure size 432x288 with 1 Axes>"
      ]
     },
     "metadata": {
      "needs_background": "light"
     },
     "output_type": "display_data"
    }
   ],
   "source": [
    "df.plot.scatter(x='ceoten',\n",
    "                       y='salary')\n",
    "display(df)"
   ]
  },
  {
   "cell_type": "code",
   "execution_count": 39,
   "metadata": {},
   "outputs": [
    {
     "name": "stdout",
     "output_type": "stream",
     "text": [
      "                            OLS Regression Results                            \n",
      "==============================================================================\n",
      "Dep. Variable:                 salary   R-squared:                       0.020\n",
      "Model:                            OLS   Adj. R-squared:                  0.015\n",
      "Method:                 Least Squares   F-statistic:                     3.651\n",
      "Date:                Sun, 28 Jun 2020   Prob (F-statistic):             0.0577\n",
      "Time:                        15:10:12   Log-Likelihood:                -1377.4\n",
      "No. Observations:                 177   AIC:                             2759.\n",
      "Df Residuals:                     175   BIC:                             2765.\n",
      "Df Model:                           1                                         \n",
      "Covariance Type:            nonrobust                                         \n",
      "==============================================================================\n",
      "                 coef    std err          t      P>|t|      [0.025      0.975]\n",
      "------------------------------------------------------------------------------\n",
      "Intercept    772.4263     65.676     11.761      0.000     642.808     902.045\n",
      "ceoten        11.7461      6.148      1.911      0.058      -0.387      23.879\n",
      "==============================================================================\n",
      "Omnibus:                      146.588   Durbin-Watson:                   2.164\n",
      "Prob(Omnibus):                  0.000   Jarque-Bera (JB):             2417.065\n",
      "Skew:                           2.933   Prob(JB):                         0.00\n",
      "Kurtosis:                      20.127   Cond. No.                         16.1\n",
      "==============================================================================\n",
      "\n",
      "Warnings:\n",
      "[1] Standard Errors assume that the covariance matrix of the errors is correctly specified.\n"
     ]
    }
   ],
   "source": [
    "# fit model\n",
    "results = smf.ols('salary ~ ceoten', data=df, subset=None).fit()\n",
    "print(results.summary())"
   ]
  },
  {
   "cell_type": "code",
   "execution_count": 40,
   "metadata": {},
   "outputs": [],
   "source": [
    "x = df[\"ceoten\"]\n",
    "y_true=df[\"salary\"]\n",
    "y_predict=results.predict()\n",
    "fitted_values=results.fittedvalues\n",
    "\n",
    "# influence statistics\n",
    "infl = results.get_influence()\n",
    "summary_table = infl.summary_table()\n",
    "resid = results.resid\n",
    "\n",
    "# residuals stats\n",
    "get_predict = results.get_prediction()\n",
    "var_resid = get_predict.var_resid\n",
    "se_obs = get_predict.se_obs"
   ]
  },
  {
   "cell_type": "code",
   "execution_count": 41,
   "metadata": {},
   "outputs": [
    {
     "data": {
      "text/plain": [
       "<matplotlib.legend.Legend at 0x134b909d0>"
      ]
     },
     "execution_count": 41,
     "metadata": {},
     "output_type": "execute_result"
    },
    {
     "data": {
      "image/png": "[encoded data removed]",
      "text/plain": [
       "<Figure size 576x432 with 1 Axes>"
      ]
     },
     "metadata": {
      "needs_background": "light"
     },
     "output_type": "display_data"
    },
    {
     "data": {
      "image/png": "[encoded data removed]",
      "text/plain": [
       "<Figure size 576x432 with 1 Axes>"
      ]
     },
     "metadata": {
      "needs_background": "light"
     },
     "output_type": "display_data"
    }
   ],
   "source": [
    "# plot fitted vs actual and include upper/lower bounds of prediction interval\n",
    "fig, ax = plt.subplots(figsize=(8,6))\n",
    "plt.ylabel('1990 salary compensation, $1000s')\n",
    "plt.xlabel('years as ceo with company');\n",
    "\n",
    "ax.plot(x, y_true, 'o', label=\"True\")\n",
    "ax.plot(x, fitted_values, 'b', label=\"fitted values (OLS)\")\n",
    "\n",
    "prstd, iv_l, iv_u = wls_prediction_std(results)\n",
    "ax.plot(x, iv_u, 'r--')\n",
    "ax.plot(x, iv_l, 'r--')\n",
    "ax.legend(loc='best')\n",
    "\n",
    "# plot the residuals\n",
    "fig, ax = plt.subplots(figsize=(8,6))\n",
    "plt.ylabel('residuals')\n",
    "plt.xlabel('years as ceo with company')\n",
    "\n",
    "ax.plot(x, resid, 'o', label=\"residuals\")\n",
    "ax.plot(x, fitted_values, 'b', label=\"fitted values (OLS)\")\n",
    "ax.legend(loc='best')"
   ]
  },
  {
   "cell_type": "code",
   "execution_count": 42,
   "metadata": {},
   "outputs": [
    {
     "name": "stdout",
     "output_type": "stream",
     "text": [
      "intercept: 772.4262719908394, slope: 11.746129160242457\n"
     ]
    }
   ],
   "source": [
    "intercept_parameter = results.params[0]\n",
    "slope_parameter = results.params[1]\n",
    "print(\"intercept: \" + str(intercept_parameter) + \", slope: \" + str(slope_parameter))"
   ]
  },
  {
   "cell_type": "markdown",
   "metadata": {},
   "source": [
    "# Linear Model Summary and Evaluation\n",
    "\n",
    "#### _Using the model described below and assuming normally distributed errors, the following point estimators are determined._\n",
    "\n",
    "#### ${Y_i}={B_0}+{B_1}{X_i}+\\epsilon_i$       $\\epsilon \\sim  \\mathcal{N}(\\mu,\\,\\sigma^{2})$\n",
    "\n",
    "\n",
    "#### $\\hat{B_0}$ = 772.4263 , $\\hat{B_1}$ = 11.746\n"
   ]
  },
  {
   "cell_type": "code",
   "execution_count": 26,
   "metadata": {},
   "outputs": [
    {
     "name": "stdout",
     "output_type": "stream",
     "text": [
      "\n",
      "Standard Errors: \n",
      "\n",
      "SE of residual: 579.9097469304737\n",
      "SE of intercept: 65.67567395910909\n",
      "SE of slope: 6.147739923394152\n"
     ]
    }
   ],
   "source": [
    "print(\"\\nStandard Errors: \\n\")\n",
    "print(\"SE of residual: \" + str(rmse(y_true, y_predict)))\n",
    "print(\"SE of intercept: \" + str(results.bse[0]))\n",
    "print(\"SE of slope: \" + str(results.bse[1]))"
   ]
  },
  {
   "cell_type": "code",
   "execution_count": 27,
   "metadata": {},
   "outputs": [
    {
     "name": "stdout",
     "output_type": "stream",
     "text": [
      "\n",
      "Confidence Intervals: \n",
      "\n",
      "95% CI of intercept: (642.8079434181833, 902.0446005634955)\n",
      "95% CI of slope: (-0.38712696539514724, 23.879385285880062)\n"
     ]
    }
   ],
   "source": [
    "coefficient_confint=results.conf_int(alpha=0.05, cols=None)\n",
    "print(\"\\nConfidence Intervals: \\n\")\n",
    "print(\"95% CI of intercept: (\" + str(coefficient_confint[0][0]) + \", \" + str(coefficient_confint[1][0]) + \")\")\n",
    "print(\"95% CI of slope: (\" + str(coefficient_confint[0][1]) + \", \" + str(coefficient_confint[1][1]) + \")\")"
   ]
  },
  {
   "cell_type": "markdown",
   "metadata": {},
   "source": [
    "## Hypothesis testing of intercept and slope point estimators"
   ]
  },
  {
   "cell_type": "markdown",
   "metadata": {},
   "source": [
    "\n",
    "\n",
    "#### _hypothesis test for slope parameter:_                    _hypothesis test for intercept parameter:_\n",
    "#### ${H_0}: {B_1}=0$                                                            ${H_0}: {B_0}=B_{0,0}$\n",
    "#### ${H_1}: {B_1}\\ne0$                                                            ${H_1}: {B_0}\\ne{B_{0,0}}$\n",
    "\n"
   ]
  },
  {
   "cell_type": "markdown",
   "metadata": {},
   "source": [
    "####  if  ${|t_0|}  >  {t_{\\alpha/2}}$, then we can reject the null hypothesis.\n",
    "_note: the critical value ${t_{\\alpha/2}}$ is determined from the t-distribution with n-2 degrees of freedom_"
   ]
  },
  {
   "cell_type": "code",
   "execution_count": 28,
   "metadata": {},
   "outputs": [
    {
     "name": "stdout",
     "output_type": "stream",
     "text": [
      "\n",
      "critical value: 1.653607437078066\n",
      "statistical confidence: 0.9499999999998792\n",
      "\n"
     ]
    }
   ],
   "source": [
    "# critical value for 95% confidence\n",
    "\n",
    "alpha = 0.05\n",
    "perc_statistical_confidence = 1 - alpha\n",
    "degrees_freedom = len(df)-2\n",
    "critical_value = t.ppf(perc_statistical_confidence, degrees_freedom)\n",
    "\n",
    "# can confirm with cdf correct level of statistical confidence is returned \n",
    "t_cdf_probability = t.cdf(critical_value, degrees_freedom)\n",
    "print(\"\\ncritical value: \" + str(critical_value))\n",
    "print(\"statistical confidence: \" + str(t_cdf_probability) + \"\\n\")"
   ]
  },
  {
   "cell_type": "markdown",
   "metadata": {},
   "source": [
    "\n",
    "### test outcomes: \n",
    "since ${|-4.26e^{-7}|}$  <  $1.65$, we **cannot** reject the null hypothesis that ${B_0}=B_{0,0}$. \n",
    "<br>\n",
    "since ${|1.911|}$  >  $1.65$, we **can** reject the null hypothesis that ${B_1}=0$ with 95% statistical confidence."
   ]
  },
  {
   "cell_type": "code",
   "execution_count": 29,
   "metadata": {},
   "outputs": [
    {
     "name": "stdout",
     "output_type": "stream",
     "text": [
      "                             Test for Constraints                             \n",
      "==============================================================================\n",
      "                 coef    std err          t      P>|t|      [0.025      0.975]\n",
      "------------------------------------------------------------------------------\n",
      "c0           772.4263     65.676  -4.26e-07      1.000     642.808     902.045\n",
      "c1            11.7461      6.148      1.911      0.058      -0.387      23.879\n",
      "==============================================================================\n"
     ]
    }
   ],
   "source": [
    "hypotheses = 'Intercept = 772.4263, ceoten = 0'\n",
    "t_test = results.t_test(hypotheses)\n",
    "print(t_test)"
   ]
  },
  {
   "cell_type": "markdown",
   "metadata": {},
   "source": [
    "### interpretation: \n",
    "_these findings indicate that in 1990, the salary of a CEO before they had been with a company for a year is estimated to be around $772,426 on average._ <br>\n",
    "_furthermore, it can be concluded with a high degree of statistical confidence that there is no direct relationship between a CEO's tenure and salary._"
   ]
  },
  {
   "cell_type": "markdown",
   "metadata": {},
   "source": [
    "## F-test for significance of linear relationship"
   ]
  },
  {
   "cell_type": "markdown",
   "metadata": {},
   "source": [
    "\n",
    "This tests that each coefficient is jointly statistically significantly different from zero. In layman's terms... <br><br>\n",
    "**Null hypothesis:** The fit of the intercept-only model and the current model are equal. <br>\n",
    "**Alternative hypothesis:** The fit of the intercept-only model is significantly reduced compared to the current model. <br>\n",
    "\n",
    "####  if  ${|F_0|}  >  {F_{\\alpha;1;175}}$, then we can reject the null hypothesis. "
   ]
  },
  {
   "cell_type": "code",
   "execution_count": 30,
   "metadata": {},
   "outputs": [
    {
     "name": "stdout",
     "output_type": "stream",
     "text": [
      "<F test: F=array([[3.65055227]]), p=0.057685549933601206, df_denom=175, df_num=1>\n"
     ]
    }
   ],
   "source": [
    "A = np.identity(len(results.params))\n",
    "A = A[1:,:]\n",
    "print(results.f_test(A))"
   ]
  },
  {
   "cell_type": "markdown",
   "metadata": {},
   "source": [
    "### test outcomes: "
   ]
  },
  {
   "cell_type": "code",
   "execution_count": 31,
   "metadata": {},
   "outputs": [
    {
     "name": "stdout",
     "output_type": "stream",
     "text": [
      "significance level: 3.6505522663470704\n",
      "p-value for F-test: 0.05768554993360219\n",
      "\n",
      "test outcome: True\n"
     ]
    }
   ],
   "source": [
    "print(\"significance level: \" + str(results.fvalue))\n",
    "print(\"p-value for F-test: \" + str(results.f_pvalue))\n",
    "print(\"\\ntest outcome: \" + str(results.fvalue > results.f_pvalue))"
   ]
  },
  {
   "cell_type": "markdown",
   "metadata": {},
   "source": [
    "### interpretation: \n",
    "_The results of the F-test lead us to reject the null hypothesis and conclude that this model provides a better fit than the intercept-only model. It also qualifies the significance of $R^{2}$ (~0.02). <br> \n",
    "It can be statistically concluded that 2.04% of the variation in CEO annual compensation is due to factors explained by this model.<br> \n",
    "The remaining 97.96% of variation is due to factors unexplained by the model._"
   ]
  },
  {
   "cell_type": "markdown",
   "metadata": {},
   "source": [
    "## Analysis of the residuals"
   ]
  },
  {
   "cell_type": "code",
   "execution_count": 32,
   "metadata": {},
   "outputs": [
    {
     "data": {
      "image/png": "[encoded data removed]",
      "text/plain": [
       "<Figure size 432x288 with 1 Axes>"
      ]
     },
     "metadata": {
      "needs_background": "light"
     },
     "output_type": "display_data"
    },
    {
     "data": {
      "text/plain": [
       "Text(0.5, 1.0, 'residuals distribution')"
      ]
     },
     "execution_count": 32,
     "metadata": {},
     "output_type": "execute_result"
    },
    {
     "data": {
      "image/png": "[encoded data removed]",
      "text/plain": [
       "<Figure size 432x288 with 1 Axes>"
      ]
     },
     "metadata": {
      "needs_background": "light"
     },
     "output_type": "display_data"
    },
    {
     "data": {
      "image/png": "[encoded data removed]",
      "text/plain": [
       "<Figure size 432x288 with 1 Axes>"
      ]
     },
     "metadata": {
      "needs_background": "light"
     },
     "output_type": "display_data"
    }
   ],
   "source": [
    "# white paper that discusses probability scale residuals: https://www.ncbi.nlm.nih.gov/pmc/articles/PMC5364820/\n",
    "\n",
    "resid_prob = sm.ProbPlot(resid, fit=True)\n",
    "fig = resid_prob.ppplot(line='45')\n",
    "h = plt.title('probability scale residuals')\n",
    "plt.show()\n",
    "\n",
    "\n",
    "# residuals boxplot \n",
    "\n",
    "fig1, ax1 = plt.subplots()\n",
    "ax1.set_ylabel(\"residuals\")\n",
    "ax1.boxplot(resid)\n",
    "plt.title('residuals boxplot')\n",
    "\n",
    "\n",
    "# histogram distribution \n",
    "\n",
    "mu, sigma, num_bins = resid.mean(), resid.std(), 25\n",
    "x = mu + sigma \n",
    "\n",
    "fig, ax = plt.subplots()\n",
    "n, bins, patches = ax.hist(resid, num_bins, density=1)\n",
    "y = ((1 / (np.sqrt(2 * np.pi) * sigma)) *\n",
    "     1.6*np.exp(-0.5 * (1 / sigma * (bins + mu + 250))**2))\n",
    "\n",
    "ax.plot(bins, y, \"--\")\n",
    "ax.set_xlabel(\"residuals\")\n",
    "ax.set_ylabel(\"density\")\n",
    "plt.title('residuals distribution')\n"
   ]
  },
  {
   "cell_type": "markdown",
   "metadata": {},
   "source": [
    "### Conclusion:\n",
    "\n",
    "From these figures, it is clear that this linear model is a poor fit.<br>\n",
    "1) The probability scale residuals diverge considerably from a tight linear trend. <br>\n",
    "2) The boxplot, though symmetrical, has many outliers. <br>\n",
    "3) The histogram shows a non-symmetrical, non-normal distribution. <br>\n",
    "\n",
    "These three graphs bring into question the normality of the residuals (an important assumption for OLS) and seem to indicate that errors are not independently distributed.<br> \n",
    "If the errors are heteroskedastic they will require the use of a weighted least squares approach."
   ]
  },
  {
   "cell_type": "code",
   "execution_count": 33,
   "metadata": {},
   "outputs": [
    {
     "data": {
      "text/html": [
       "<table class=\"simpletable\">\n",
       "<caption>OLS Regression Results</caption>\n",
       "<tr>\n",
       "  <th>Dep. Variable:</th>         <td>salary</td>      <th>  R-squared:         </th> <td>   0.020</td>\n",
       "</tr>\n",
       "<tr>\n",
       "  <th>Model:</th>                   <td>OLS</td>       <th>  Adj. R-squared:    </th> <td>   0.015</td>\n",
       "</tr>\n",
       "<tr>\n",
       "  <th>Method:</th>             <td>Least Squares</td>  <th>  F-statistic:       </th> <td>   3.651</td>\n",
       "</tr>\n",
       "<tr>\n",
       "  <th>Date:</th>             <td>Sun, 28 Jun 2020</td> <th>  Prob (F-statistic):</th>  <td>0.0577</td> \n",
       "</tr>\n",
       "<tr>\n",
       "  <th>Time:</th>                 <td>09:00:21</td>     <th>  Log-Likelihood:    </th> <td> -1377.4</td>\n",
       "</tr>\n",
       "<tr>\n",
       "  <th>No. Observations:</th>      <td>   177</td>      <th>  AIC:               </th> <td>   2759.</td>\n",
       "</tr>\n",
       "<tr>\n",
       "  <th>Df Residuals:</th>          <td>   175</td>      <th>  BIC:               </th> <td>   2765.</td>\n",
       "</tr>\n",
       "<tr>\n",
       "  <th>Df Model:</th>              <td>     1</td>      <th>                     </th>     <td> </td>   \n",
       "</tr>\n",
       "<tr>\n",
       "  <th>Covariance Type:</th>      <td>nonrobust</td>    <th>                     </th>     <td> </td>   \n",
       "</tr>\n",
       "</table>\n",
       "<table class=\"simpletable\">\n",
       "<tr>\n",
       "      <td></td>         <th>coef</th>     <th>std err</th>      <th>t</th>      <th>P>|t|</th>  <th>[0.025</th>    <th>0.975]</th>  \n",
       "</tr>\n",
       "<tr>\n",
       "  <th>Intercept</th> <td>  772.4263</td> <td>   65.676</td> <td>   11.761</td> <td> 0.000</td> <td>  642.808</td> <td>  902.045</td>\n",
       "</tr>\n",
       "<tr>\n",
       "  <th>ceoten</th>    <td>   11.7461</td> <td>    6.148</td> <td>    1.911</td> <td> 0.058</td> <td>   -0.387</td> <td>   23.879</td>\n",
       "</tr>\n",
       "</table>\n",
       "<table class=\"simpletable\">\n",
       "<tr>\n",
       "  <th>Omnibus:</th>       <td>146.588</td> <th>  Durbin-Watson:     </th> <td>   2.164</td>\n",
       "</tr>\n",
       "<tr>\n",
       "  <th>Prob(Omnibus):</th> <td> 0.000</td>  <th>  Jarque-Bera (JB):  </th> <td>2417.065</td>\n",
       "</tr>\n",
       "<tr>\n",
       "  <th>Skew:</th>          <td> 2.933</td>  <th>  Prob(JB):          </th> <td>    0.00</td>\n",
       "</tr>\n",
       "<tr>\n",
       "  <th>Kurtosis:</th>      <td>20.127</td>  <th>  Cond. No.          </th> <td>    16.1</td>\n",
       "</tr>\n",
       "</table><br/><br/>Warnings:<br/>[1] Standard Errors assume that the covariance matrix of the errors is correctly specified."
      ],
      "text/plain": [
       "<class 'statsmodels.iolib.summary.Summary'>\n",
       "\"\"\"\n",
       "                            OLS Regression Results                            \n",
       "==============================================================================\n",
       "Dep. Variable:                 salary   R-squared:                       0.020\n",
       "Model:                            OLS   Adj. R-squared:                  0.015\n",
       "Method:                 Least Squares   F-statistic:                     3.651\n",
       "Date:                Sun, 28 Jun 2020   Prob (F-statistic):             0.0577\n",
       "Time:                        09:00:21   Log-Likelihood:                -1377.4\n",
       "No. Observations:                 177   AIC:                             2759.\n",
       "Df Residuals:                     175   BIC:                             2765.\n",
       "Df Model:                           1                                         \n",
       "Covariance Type:            nonrobust                                         \n",
       "==============================================================================\n",
       "                 coef    std err          t      P>|t|      [0.025      0.975]\n",
       "------------------------------------------------------------------------------\n",
       "Intercept    772.4263     65.676     11.761      0.000     642.808     902.045\n",
       "ceoten        11.7461      6.148      1.911      0.058      -0.387      23.879\n",
       "==============================================================================\n",
       "Omnibus:                      146.588   Durbin-Watson:                   2.164\n",
       "Prob(Omnibus):                  0.000   Jarque-Bera (JB):             2417.065\n",
       "Skew:                           2.933   Prob(JB):                         0.00\n",
       "Kurtosis:                      20.127   Cond. No.                         16.1\n",
       "==============================================================================\n",
       "\n",
       "Warnings:\n",
       "[1] Standard Errors assume that the covariance matrix of the errors is correctly specified.\n",
       "\"\"\""
      ]
     },
     "execution_count": 33,
     "metadata": {},
     "output_type": "execute_result"
    }
   ],
   "source": [
    "results.summary()"
   ]
  },
  {
   "cell_type": "code",
   "execution_count": 43,
   "metadata": {},
   "outputs": [
    {
     "name": "stdout",
     "output_type": "stream",
     "text": [
      "The watermark extension is already loaded. To reload it, use:\n",
      "  %reload_ext watermark\n",
      "CPython 3.7.6\n",
      "IPython 7.15.0\n",
      "\n",
      "pandas 1.0.5\n",
      "numpy 1.19.0\n",
      "matplotlib 3.2.2\n",
      "statsmodels 0.11.1\n",
      "watermark 2.0.2\n",
      "\n",
      "compiler   : Clang 11.0.0 (clang-1100.0.33.16)\n",
      "system     : Darwin\n",
      "release    : 18.7.0\n",
      "machine    : x86_64\n",
      "processor  : i386\n",
      "CPU cores  : 12\n",
      "interpreter: 64bit\n",
      " \n",
      "last updated: Sun Jun 28 2020 17:24:18 CDT\n"
     ]
    }
   ],
   "source": [
    "# print dependencies\n",
    "\n",
    "%load_ext watermark\n",
    "\n",
    "# python, packages, and machine characteristics \n",
    "%watermark -v -m -p pandas,numpy,matplotlib,statsmodels,watermark \n",
    "\n",
    "# date\n",
    "print(\" \") \n",
    "%watermark -u -n -t -z"
   ]
  },
  {
   "cell_type": "code",
   "execution_count": null,
   "metadata": {},
   "outputs": [],
   "source": []
  },
  {
   "cell_type": "code",
   "execution_count": null,
   "metadata": {},
   "outputs": [],
   "source": []
  },
  {
   "cell_type": "code",
   "execution_count": null,
   "metadata": {},
   "outputs": [],
   "source": []
  },
  {
   "cell_type": "code",
   "execution_count": null,
   "metadata": {},
   "outputs": [],
   "source": []
  },
  {
   "cell_type": "code",
   "execution_count": null,
   "metadata": {},
   "outputs": [],
   "source": []
  },
  {
   "cell_type": "code",
   "execution_count": null,
   "metadata": {},
   "outputs": [],
   "source": []
  },
  {
   "cell_type": "code",
   "execution_count": null,
   "metadata": {},
   "outputs": [],
   "source": []
  },
  {
   "cell_type": "code",
   "execution_count": null,
   "metadata": {},
   "outputs": [],
   "source": []
  },
  {
   "cell_type": "code",
   "execution_count": null,
   "metadata": {},
   "outputs": [],
   "source": []
  },
  {
   "cell_type": "code",
   "execution_count": null,
   "metadata": {},
   "outputs": [],
   "source": []
  },
  {
   "cell_type": "code",
   "execution_count": null,
   "metadata": {},
   "outputs": [],
   "source": []
  },
  {
   "cell_type": "code",
   "execution_count": null,
   "metadata": {},
   "outputs": [],
   "source": []
  },
  {
   "cell_type": "code",
   "execution_count": null,
   "metadata": {},
   "outputs": [],
   "source": []
  }
 ],
 "metadata": {
  "kernelspec": {
   "display_name": "Python 3",
   "language": "python",
   "name": "python3"
  },
  "language_info": {
   "codemirror_mode": {
    "name": "ipython",
    "version": 3
   },
   "file_extension": ".py",
   "mimetype": "text/x-python",
   "name": "python",
   "nbconvert_exporter": "python",
   "pygments_lexer": "ipython3",
   "version": "3.7.6"
  }
 },
 "nbformat": 4,
 "nbformat_minor": 4
}
