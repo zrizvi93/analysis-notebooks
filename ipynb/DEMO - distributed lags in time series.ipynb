{
 "cells": [
  {
   "cell_type": "markdown",
   "metadata": {},
   "source": [
    "# The effect of tax exemptions for dependents on fertility rates, _a distributed lag model_"
   ]
  },
  {
   "cell_type": "code",
   "execution_count": 1,
   "metadata": {},
   "outputs": [],
   "source": [
    "# dataset publicly available here: http://fmwww.bc.edu/ec-p/data/wooldridge/fertil3.dta\n",
    "\n",
    "import os\n",
    "import pandas as pd\n",
    "import statsmodels.api as sm\n",
    "import statsmodels.formula.api as smf\n",
    "import matplotlib.pyplot as plt\n",
    "import numpy as np\n",
    "\n",
    "fertil3_data=os.path.join(os.getcwd(),\"FERTIL3.dta\")\n",
    "df = pd.read_stata(fertil3_data)"
   ]
  },
  {
   "cell_type": "code",
   "execution_count": 2,
   "metadata": {},
   "outputs": [
    {
     "data": {
      "text/html": [
       "<div>\n",
       "<style scoped>\n",
       "    .dataframe tbody tr th:only-of-type {\n",
       "        vertical-align: middle;\n",
       "    }\n",
       "\n",
       "    .dataframe tbody tr th {\n",
       "        vertical-align: top;\n",
       "    }\n",
       "\n",
       "    .dataframe thead th {\n",
       "        text-align: right;\n",
       "    }\n",
       "</style>\n",
       "<table border=\"1\" class=\"dataframe\">\n",
       "  <thead>\n",
       "    <tr style=\"text-align: right;\">\n",
       "      <th></th>\n",
       "      <th>gfr</th>\n",
       "      <th>pe</th>\n",
       "      <th>year</th>\n",
       "      <th>t</th>\n",
       "      <th>tsq</th>\n",
       "      <th>pe_1</th>\n",
       "      <th>pe_2</th>\n",
       "      <th>pe_3</th>\n",
       "      <th>pe_4</th>\n",
       "      <th>pill</th>\n",
       "      <th>...</th>\n",
       "      <th>cpe_1</th>\n",
       "      <th>cpe_2</th>\n",
       "      <th>cpe_3</th>\n",
       "      <th>cpe_4</th>\n",
       "      <th>gfr_1</th>\n",
       "      <th>cgfr_1</th>\n",
       "      <th>cgfr_2</th>\n",
       "      <th>cgfr_3</th>\n",
       "      <th>cgfr_4</th>\n",
       "      <th>gfr_2</th>\n",
       "    </tr>\n",
       "  </thead>\n",
       "  <tbody>\n",
       "    <tr>\n",
       "      <th>0</th>\n",
       "      <td>124.699997</td>\n",
       "      <td>0.000000</td>\n",
       "      <td>1913</td>\n",
       "      <td>1</td>\n",
       "      <td>1</td>\n",
       "      <td>NaN</td>\n",
       "      <td>NaN</td>\n",
       "      <td>NaN</td>\n",
       "      <td>NaN</td>\n",
       "      <td>0</td>\n",
       "      <td>...</td>\n",
       "      <td>NaN</td>\n",
       "      <td>NaN</td>\n",
       "      <td>NaN</td>\n",
       "      <td>NaN</td>\n",
       "      <td>NaN</td>\n",
       "      <td>NaN</td>\n",
       "      <td>NaN</td>\n",
       "      <td>NaN</td>\n",
       "      <td>NaN</td>\n",
       "      <td>NaN</td>\n",
       "    </tr>\n",
       "    <tr>\n",
       "      <th>1</th>\n",
       "      <td>126.599998</td>\n",
       "      <td>0.000000</td>\n",
       "      <td>1914</td>\n",
       "      <td>2</td>\n",
       "      <td>4</td>\n",
       "      <td>0.000000</td>\n",
       "      <td>NaN</td>\n",
       "      <td>NaN</td>\n",
       "      <td>NaN</td>\n",
       "      <td>0</td>\n",
       "      <td>...</td>\n",
       "      <td>NaN</td>\n",
       "      <td>NaN</td>\n",
       "      <td>NaN</td>\n",
       "      <td>NaN</td>\n",
       "      <td>124.699997</td>\n",
       "      <td>NaN</td>\n",
       "      <td>NaN</td>\n",
       "      <td>NaN</td>\n",
       "      <td>NaN</td>\n",
       "      <td>NaN</td>\n",
       "    </tr>\n",
       "    <tr>\n",
       "      <th>2</th>\n",
       "      <td>125.000000</td>\n",
       "      <td>0.000000</td>\n",
       "      <td>1915</td>\n",
       "      <td>3</td>\n",
       "      <td>9</td>\n",
       "      <td>0.000000</td>\n",
       "      <td>0.000000</td>\n",
       "      <td>NaN</td>\n",
       "      <td>NaN</td>\n",
       "      <td>0</td>\n",
       "      <td>...</td>\n",
       "      <td>0.000000</td>\n",
       "      <td>NaN</td>\n",
       "      <td>NaN</td>\n",
       "      <td>NaN</td>\n",
       "      <td>126.599998</td>\n",
       "      <td>1.900002</td>\n",
       "      <td>NaN</td>\n",
       "      <td>NaN</td>\n",
       "      <td>NaN</td>\n",
       "      <td>124.699997</td>\n",
       "    </tr>\n",
       "    <tr>\n",
       "      <th>3</th>\n",
       "      <td>123.400002</td>\n",
       "      <td>0.000000</td>\n",
       "      <td>1916</td>\n",
       "      <td>4</td>\n",
       "      <td>16</td>\n",
       "      <td>0.000000</td>\n",
       "      <td>0.000000</td>\n",
       "      <td>0.000000</td>\n",
       "      <td>NaN</td>\n",
       "      <td>0</td>\n",
       "      <td>...</td>\n",
       "      <td>0.000000</td>\n",
       "      <td>0.000000</td>\n",
       "      <td>NaN</td>\n",
       "      <td>NaN</td>\n",
       "      <td>125.000000</td>\n",
       "      <td>-1.599998</td>\n",
       "      <td>1.900002</td>\n",
       "      <td>NaN</td>\n",
       "      <td>NaN</td>\n",
       "      <td>126.599998</td>\n",
       "    </tr>\n",
       "    <tr>\n",
       "      <th>4</th>\n",
       "      <td>121.000000</td>\n",
       "      <td>19.270000</td>\n",
       "      <td>1917</td>\n",
       "      <td>5</td>\n",
       "      <td>25</td>\n",
       "      <td>0.000000</td>\n",
       "      <td>0.000000</td>\n",
       "      <td>0.000000</td>\n",
       "      <td>0.000000</td>\n",
       "      <td>0</td>\n",
       "      <td>...</td>\n",
       "      <td>0.000000</td>\n",
       "      <td>0.000000</td>\n",
       "      <td>0.000000</td>\n",
       "      <td>NaN</td>\n",
       "      <td>123.400002</td>\n",
       "      <td>-1.599998</td>\n",
       "      <td>-1.599998</td>\n",
       "      <td>1.900002</td>\n",
       "      <td>NaN</td>\n",
       "      <td>125.000000</td>\n",
       "    </tr>\n",
       "    <tr>\n",
       "      <th>...</th>\n",
       "      <td>...</td>\n",
       "      <td>...</td>\n",
       "      <td>...</td>\n",
       "      <td>...</td>\n",
       "      <td>...</td>\n",
       "      <td>...</td>\n",
       "      <td>...</td>\n",
       "      <td>...</td>\n",
       "      <td>...</td>\n",
       "      <td>...</td>\n",
       "      <td>...</td>\n",
       "      <td>...</td>\n",
       "      <td>...</td>\n",
       "      <td>...</td>\n",
       "      <td>...</td>\n",
       "      <td>...</td>\n",
       "      <td>...</td>\n",
       "      <td>...</td>\n",
       "      <td>...</td>\n",
       "      <td>...</td>\n",
       "      <td>...</td>\n",
       "    </tr>\n",
       "    <tr>\n",
       "      <th>67</th>\n",
       "      <td>68.400002</td>\n",
       "      <td>123.169998</td>\n",
       "      <td>1980</td>\n",
       "      <td>68</td>\n",
       "      <td>4624</td>\n",
       "      <td>132.929993</td>\n",
       "      <td>118.980003</td>\n",
       "      <td>116.110001</td>\n",
       "      <td>120.080002</td>\n",
       "      <td>1</td>\n",
       "      <td>...</td>\n",
       "      <td>13.949989</td>\n",
       "      <td>2.870003</td>\n",
       "      <td>-3.970001</td>\n",
       "      <td>-2.279999</td>\n",
       "      <td>67.199997</td>\n",
       "      <td>1.699997</td>\n",
       "      <td>-1.300003</td>\n",
       "      <td>1.000000</td>\n",
       "      <td>-0.199997</td>\n",
       "      <td>65.500000</td>\n",
       "    </tr>\n",
       "    <tr>\n",
       "      <th>68</th>\n",
       "      <td>67.400002</td>\n",
       "      <td>119.309998</td>\n",
       "      <td>1981</td>\n",
       "      <td>69</td>\n",
       "      <td>4761</td>\n",
       "      <td>123.169998</td>\n",
       "      <td>132.929993</td>\n",
       "      <td>118.980003</td>\n",
       "      <td>116.110001</td>\n",
       "      <td>1</td>\n",
       "      <td>...</td>\n",
       "      <td>-9.759995</td>\n",
       "      <td>13.949989</td>\n",
       "      <td>2.870003</td>\n",
       "      <td>-3.970001</td>\n",
       "      <td>68.400002</td>\n",
       "      <td>1.200005</td>\n",
       "      <td>1.699997</td>\n",
       "      <td>-1.300003</td>\n",
       "      <td>1.000000</td>\n",
       "      <td>67.199997</td>\n",
       "    </tr>\n",
       "    <tr>\n",
       "      <th>69</th>\n",
       "      <td>67.300003</td>\n",
       "      <td>102.040001</td>\n",
       "      <td>1982</td>\n",
       "      <td>70</td>\n",
       "      <td>4900</td>\n",
       "      <td>119.309998</td>\n",
       "      <td>123.169998</td>\n",
       "      <td>132.929993</td>\n",
       "      <td>118.980003</td>\n",
       "      <td>1</td>\n",
       "      <td>...</td>\n",
       "      <td>-3.860001</td>\n",
       "      <td>-9.759995</td>\n",
       "      <td>13.949989</td>\n",
       "      <td>2.870003</td>\n",
       "      <td>67.400002</td>\n",
       "      <td>-1.000000</td>\n",
       "      <td>1.200005</td>\n",
       "      <td>1.699997</td>\n",
       "      <td>-1.300003</td>\n",
       "      <td>68.400002</td>\n",
       "    </tr>\n",
       "    <tr>\n",
       "      <th>70</th>\n",
       "      <td>65.800003</td>\n",
       "      <td>92.489998</td>\n",
       "      <td>1983</td>\n",
       "      <td>71</td>\n",
       "      <td>5041</td>\n",
       "      <td>102.040001</td>\n",
       "      <td>119.309998</td>\n",
       "      <td>123.169998</td>\n",
       "      <td>132.929993</td>\n",
       "      <td>1</td>\n",
       "      <td>...</td>\n",
       "      <td>-17.269997</td>\n",
       "      <td>-3.860001</td>\n",
       "      <td>-9.759995</td>\n",
       "      <td>13.949989</td>\n",
       "      <td>67.300003</td>\n",
       "      <td>-0.099998</td>\n",
       "      <td>-1.000000</td>\n",
       "      <td>1.200005</td>\n",
       "      <td>1.699997</td>\n",
       "      <td>67.400002</td>\n",
       "    </tr>\n",
       "    <tr>\n",
       "      <th>71</th>\n",
       "      <td>65.400002</td>\n",
       "      <td>83.900002</td>\n",
       "      <td>1984</td>\n",
       "      <td>72</td>\n",
       "      <td>5184</td>\n",
       "      <td>92.489998</td>\n",
       "      <td>102.040001</td>\n",
       "      <td>119.309998</td>\n",
       "      <td>123.169998</td>\n",
       "      <td>1</td>\n",
       "      <td>...</td>\n",
       "      <td>-9.550003</td>\n",
       "      <td>-17.269997</td>\n",
       "      <td>-3.860001</td>\n",
       "      <td>-9.759995</td>\n",
       "      <td>65.800003</td>\n",
       "      <td>-1.500000</td>\n",
       "      <td>-0.099998</td>\n",
       "      <td>-1.000000</td>\n",
       "      <td>1.200005</td>\n",
       "      <td>67.300003</td>\n",
       "    </tr>\n",
       "  </tbody>\n",
       "</table>\n",
       "<p>72 rows × 24 columns</p>\n",
       "</div>"
      ],
      "text/plain": [
       "           gfr          pe  year   t   tsq        pe_1        pe_2  \\\n",
       "0   124.699997    0.000000  1913   1     1         NaN         NaN   \n",
       "1   126.599998    0.000000  1914   2     4    0.000000         NaN   \n",
       "2   125.000000    0.000000  1915   3     9    0.000000    0.000000   \n",
       "3   123.400002    0.000000  1916   4    16    0.000000    0.000000   \n",
       "4   121.000000   19.270000  1917   5    25    0.000000    0.000000   \n",
       "..         ...         ...   ...  ..   ...         ...         ...   \n",
       "67   68.400002  123.169998  1980  68  4624  132.929993  118.980003   \n",
       "68   67.400002  119.309998  1981  69  4761  123.169998  132.929993   \n",
       "69   67.300003  102.040001  1982  70  4900  119.309998  123.169998   \n",
       "70   65.800003   92.489998  1983  71  5041  102.040001  119.309998   \n",
       "71   65.400002   83.900002  1984  72  5184   92.489998  102.040001   \n",
       "\n",
       "          pe_3        pe_4  pill  ...      cpe_1      cpe_2      cpe_3  \\\n",
       "0          NaN         NaN     0  ...        NaN        NaN        NaN   \n",
       "1          NaN         NaN     0  ...        NaN        NaN        NaN   \n",
       "2          NaN         NaN     0  ...   0.000000        NaN        NaN   \n",
       "3     0.000000         NaN     0  ...   0.000000   0.000000        NaN   \n",
       "4     0.000000    0.000000     0  ...   0.000000   0.000000   0.000000   \n",
       "..         ...         ...   ...  ...        ...        ...        ...   \n",
       "67  116.110001  120.080002     1  ...  13.949989   2.870003  -3.970001   \n",
       "68  118.980003  116.110001     1  ...  -9.759995  13.949989   2.870003   \n",
       "69  132.929993  118.980003     1  ...  -3.860001  -9.759995  13.949989   \n",
       "70  123.169998  132.929993     1  ... -17.269997  -3.860001  -9.759995   \n",
       "71  119.309998  123.169998     1  ...  -9.550003 -17.269997  -3.860001   \n",
       "\n",
       "        cpe_4       gfr_1    cgfr_1    cgfr_2    cgfr_3    cgfr_4       gfr_2  \n",
       "0         NaN         NaN       NaN       NaN       NaN       NaN         NaN  \n",
       "1         NaN  124.699997       NaN       NaN       NaN       NaN         NaN  \n",
       "2         NaN  126.599998  1.900002       NaN       NaN       NaN  124.699997  \n",
       "3         NaN  125.000000 -1.599998  1.900002       NaN       NaN  126.599998  \n",
       "4         NaN  123.400002 -1.599998 -1.599998  1.900002       NaN  125.000000  \n",
       "..        ...         ...       ...       ...       ...       ...         ...  \n",
       "67  -2.279999   67.199997  1.699997 -1.300003  1.000000 -0.199997   65.500000  \n",
       "68  -3.970001   68.400002  1.200005  1.699997 -1.300003  1.000000   67.199997  \n",
       "69   2.870003   67.400002 -1.000000  1.200005  1.699997 -1.300003   68.400002  \n",
       "70  13.949989   67.300003 -0.099998 -1.000000  1.200005  1.699997   67.400002  \n",
       "71  -9.759995   65.800003 -1.500000 -0.099998 -1.000000  1.200005   67.300003  \n",
       "\n",
       "[72 rows x 24 columns]"
      ]
     },
     "execution_count": 2,
     "metadata": {},
     "output_type": "execute_result"
    }
   ],
   "source": [
    "df"
   ]
  },
  {
   "cell_type": "markdown",
   "metadata": {},
   "source": [
    "#### Graphing TAX EXEMPTION (pe) and FERTILITY RATE (gfr) variables over time confirms that both contain a time trend."
   ]
  },
  {
   "cell_type": "code",
   "execution_count": 3,
   "metadata": {},
   "outputs": [
    {
     "data": {
      "image/png": "[encoded data removed]",
      "text/plain": [
       "<Figure size 576x432 with 1 Axes>"
      ]
     },
     "metadata": {
      "needs_background": "light"
     },
     "output_type": "display_data"
    },
    {
     "data": {
      "image/png": "[encoded data removed]",
      "text/plain": [
       "<Figure size 576x432 with 1 Axes>"
      ]
     },
     "metadata": {
      "needs_background": "light"
     },
     "output_type": "display_data"
    }
   ],
   "source": [
    "def check_time_trend(var):\n",
    "    #regress = smf.ols(var + ' ~ t', data=df, subset=None).fit()\n",
    "    x = df['t'] \n",
    "    y = df[var]\n",
    "    # plot\n",
    "    fig, ax = plt.subplots(figsize=(8,6))\n",
    "    plt.ylabel(var)\n",
    "    plt.xlabel('time')\n",
    "    ax.plot(x, y, '-', label=var)\n",
    "    ax.legend(loc='best')\n",
    "\n",
    "check_time_trend('pe')\n",
    "check_time_trend('gfr')"
   ]
  },
  {
   "cell_type": "markdown",
   "metadata": {},
   "source": [
    "#### Then regression equation of $\\hat{gfr_t}$ on a quadratic in time gives: \n",
    "#### $\\hat{gfr_t}=107.0563+0.0717t-0.0080{t^2}$ \n",
    "\n",
    "#### The OLS regression parameter statistics show that $t$ and $t^{2}$ are individually insignificant, since both parameter p-values are well above 0.05. (The individual insignificance is due to the correlation among pe and its lagged values)."
   ]
  },
  {
   "cell_type": "code",
   "execution_count": 4,
   "metadata": {},
   "outputs": [
    {
     "name": "stdout",
     "output_type": "stream",
     "text": [
      "                            OLS Regression Results                            \n",
      "==============================================================================\n",
      "Dep. Variable:                    gfr   R-squared:                       0.314\n",
      "Model:                            OLS   Adj. R-squared:                  0.294\n",
      "Method:                 Least Squares   F-statistic:                     15.80\n",
      "Date:                Sun, 28 Jun 2020   Prob (F-statistic):           2.24e-06\n",
      "Time:                        17:15:18   Log-Likelihood:                -303.07\n",
      "No. Observations:                  72   AIC:                             612.1\n",
      "Df Residuals:                      69   BIC:                             619.0\n",
      "Df Model:                           2                                         \n",
      "Covariance Type:            nonrobust                                         \n",
      "==============================================================================\n",
      "                 coef    std err          t      P>|t|      [0.025      0.975]\n",
      "------------------------------------------------------------------------------\n",
      "Intercept    107.0563      6.050     17.696      0.000      94.988     119.125\n",
      "t              0.0717      0.382      0.187      0.852      -0.691       0.835\n",
      "tsq           -0.0080      0.005     -1.568      0.122      -0.018       0.002\n",
      "==============================================================================\n",
      "Omnibus:                       12.315   Durbin-Watson:                   0.067\n",
      "Prob(Omnibus):                  0.002   Jarque-Bera (JB):                3.490\n",
      "Skew:                          -0.016   Prob(JB):                        0.175\n",
      "Kurtosis:                       1.922   Cond. No.                     7.29e+03\n",
      "==============================================================================\n",
      "\n",
      "Warnings:\n",
      "[1] Standard Errors assume that the covariance matrix of the errors is correctly specified.\n",
      "[2] The condition number is large, 7.29e+03. This might indicate that there are\n",
      "strong multicollinearity or other numerical problems.\n"
     ]
    }
   ],
   "source": [
    "results = smf.ols('gfr ~ t + tsq', data=df, subset=None).fit()\n",
    "resid = results.resid\n",
    "print(results.summary())"
   ]
  },
  {
   "cell_type": "markdown",
   "metadata": {},
   "source": [
    "<br>\n",
    "\n",
    "#### However, the F-test reveals that jointly, they are very significant (p ≈ 0.00000224).<br> This significance confirms the non-linear trending behavior of $gfr$ observed in the plots. "
   ]
  },
  {
   "cell_type": "code",
   "execution_count": 5,
   "metadata": {},
   "outputs": [
    {
     "name": "stdout",
     "output_type": "stream",
     "text": [
      "<F test: F=array([[15.79975116]]), p=2.242525645073461e-06, df_denom=69, df_num=2>\n",
      "significance level: 15.799751163292969\n",
      "p-value for F-test: 2.2425256450731352e-06\n",
      "\n",
      "test outcome: True\n"
     ]
    }
   ],
   "source": [
    "A = np.identity(len(results.params))\n",
    "A = A[1:,:]\n",
    "print(results.f_test(A))\n",
    "print(\"significance level: \" + str(results.fvalue))\n",
    "print(\"p-value for F-test: \" + str(results.f_pvalue))\n",
    "print(\"\\ntest outcome: \" + str(results.fvalue > results.f_pvalue))"
   ]
  },
  {
   "cell_type": "markdown",
   "metadata": {},
   "source": [
    "### Static model \n",
    "Regression Equation: $\\hat{gfr_t}=124.09 +  0.35{pe_t} - 35.88{ww2_t} - 10.12{pill_t} - 2.53{t_t} + 0.02{tsq_t}$"
   ]
  },
  {
   "cell_type": "code",
   "execution_count": 6,
   "metadata": {},
   "outputs": [
    {
     "name": "stdout",
     "output_type": "stream",
     "text": [
      "                            OLS Regression Results                            \n",
      "==============================================================================\n",
      "Dep. Variable:                    gfr   R-squared:                       0.727\n",
      "Model:                            OLS   Adj. R-squared:                  0.706\n",
      "Method:                 Least Squares   F-statistic:                     35.09\n",
      "Date:                Sun, 28 Jun 2020   Prob (F-statistic):           2.44e-17\n",
      "Time:                        17:15:19   Log-Likelihood:                -269.95\n",
      "No. Observations:                  72   AIC:                             551.9\n",
      "Df Residuals:                      66   BIC:                             565.6\n",
      "Df Model:                           5                                         \n",
      "Covariance Type:            nonrobust                                         \n",
      "==============================================================================\n",
      "                 coef    std err          t      P>|t|      [0.025      0.975]\n",
      "------------------------------------------------------------------------------\n",
      "Intercept    124.0919      4.361     28.457      0.000     115.385     132.798\n",
      "pe             0.3478      0.040      8.639      0.000       0.267       0.428\n",
      "ww2          -35.8803      5.708     -6.286      0.000     -47.277     -24.484\n",
      "pill         -10.1197      6.336     -1.597      0.115     -22.770       2.531\n",
      "t             -2.5314      0.389     -6.501      0.000      -3.309      -1.754\n",
      "tsq            0.0196      0.005      3.945      0.000       0.010       0.030\n",
      "==============================================================================\n",
      "Omnibus:                        0.655   Durbin-Watson:                   0.514\n",
      "Prob(Omnibus):                  0.721   Jarque-Bera (JB):                0.786\n",
      "Skew:                          -0.170   Prob(JB):                        0.675\n",
      "Kurtosis:                       2.617   Cond. No.                     1.20e+04\n",
      "==============================================================================\n",
      "\n",
      "Warnings:\n",
      "[1] Standard Errors assume that the covariance matrix of the errors is correctly specified.\n",
      "[2] The condition number is large, 1.2e+04. This might indicate that there are\n",
      "strong multicollinearity or other numerical problems.\n"
     ]
    }
   ],
   "source": [
    "results = smf.ols('gfr ~ pe + ww2 + pill + t + tsq', data=df, subset=None).fit()\n",
    "print(results.summary())"
   ]
  },
  {
   "cell_type": "markdown",
   "metadata": {},
   "source": [
    "<br>\n",
    "<b>Note: Then residuals calculated in the regression $\\hat{gfr_t}=107.0563+0.0717t-0.0080{t^2}$ are a detrended form of $gfr_t$ (lets call $resid$)</b>\n",
    "<br>\n",
    "<i>Detrending this dataset will allow us to focus our analysis on the fluctuations in the data about the trend.</i>\n",
    "\n",
    "### Static model, adjusted for trend (detrended)\n",
    "Regression Equation: $\\hat{resid_t}=17.04 +  0.35{pe_t} - 35.88{ww2_t} - 10.12{pill_t} - 2.60{t_t} + 0.03{tsq_t}$"
   ]
  },
  {
   "cell_type": "code",
   "execution_count": 7,
   "metadata": {},
   "outputs": [
    {
     "name": "stdout",
     "output_type": "stream",
     "text": [
      "                            OLS Regression Results                            \n",
      "==============================================================================\n",
      "Dep. Variable:                  resid   R-squared:                       0.602\n",
      "Model:                            OLS   Adj. R-squared:                  0.571\n",
      "Method:                 Least Squares   F-statistic:                     19.92\n",
      "Date:                Sun, 28 Jun 2020   Prob (F-statistic):           4.72e-12\n",
      "Time:                        17:15:20   Log-Likelihood:                -269.95\n",
      "No. Observations:                  72   AIC:                             551.9\n",
      "Df Residuals:                      66   BIC:                             565.6\n",
      "Df Model:                           5                                         \n",
      "Covariance Type:            nonrobust                                         \n",
      "==============================================================================\n",
      "                 coef    std err          t      P>|t|      [0.025      0.975]\n",
      "------------------------------------------------------------------------------\n",
      "Intercept     17.0357      4.361      3.907      0.000       8.329      25.742\n",
      "pe             0.3478      0.040      8.639      0.000       0.267       0.428\n",
      "ww2          -35.8803      5.708     -6.286      0.000     -47.277     -24.484\n",
      "pill         -10.1197      6.336     -1.597      0.115     -22.770       2.531\n",
      "t             -2.6031      0.389     -6.685      0.000      -3.381      -1.826\n",
      "tsq            0.0276      0.005      5.546      0.000       0.018       0.037\n",
      "==============================================================================\n",
      "Omnibus:                        0.655   Durbin-Watson:                   0.514\n",
      "Prob(Omnibus):                  0.721   Jarque-Bera (JB):                0.786\n",
      "Skew:                          -0.170   Prob(JB):                        0.675\n",
      "Kurtosis:                       2.617   Cond. No.                     1.20e+04\n",
      "==============================================================================\n",
      "\n",
      "Warnings:\n",
      "[1] Standard Errors assume that the covariance matrix of the errors is correctly specified.\n",
      "[2] The condition number is large, 1.2e+04. This might indicate that there are\n",
      "strong multicollinearity or other numerical problems.\n"
     ]
    }
   ],
   "source": [
    "results = smf.ols('resid ~ pe + ww2 + pill + t + tsq', data=df, subset=None).fit()\n",
    "print(results.summary())"
   ]
  },
  {
   "cell_type": "markdown",
   "metadata": {},
   "source": [
    "### Distributed lag model \n",
    "Regression Equation: $\\hat{gfr_t}=92.51 +  0.09{pe_t} -  0.004{pe_{t-1}} +  0.007 {pe_{t-2}} +  0.02{pe_{t-3}} +  0.01{pe_{t-4}} - 21.34{ww2_t} - 31.08{pill_t}$\n",
    "<br><br>\n",
    "Long Run Propensity:<br>\n",
    "$\\hat{LRP}$= 0.09 - 0.004 + 0.007 +  0.02 + 0.01 = .123"
   ]
  },
  {
   "cell_type": "code",
   "execution_count": 8,
   "metadata": {},
   "outputs": [
    {
     "name": "stdout",
     "output_type": "stream",
     "text": [
      "                            OLS Regression Results                            \n",
      "==============================================================================\n",
      "Dep. Variable:                    gfr   R-squared:                       0.537\n",
      "Model:                            OLS   Adj. R-squared:                  0.483\n",
      "Method:                 Least Squares   F-statistic:                     9.934\n",
      "Date:                Sun, 28 Jun 2020   Prob (F-statistic):           3.63e-08\n",
      "Time:                        17:15:20   Log-Likelihood:                -270.07\n",
      "No. Observations:                  68   AIC:                             556.1\n",
      "Df Residuals:                      60   BIC:                             573.9\n",
      "Df Model:                           7                                         \n",
      "Covariance Type:            nonrobust                                         \n",
      "==============================================================================\n",
      "                 coef    std err          t      P>|t|      [0.025      0.975]\n",
      "------------------------------------------------------------------------------\n",
      "Intercept     92.5016      3.325     27.816      0.000      85.850      99.154\n",
      "pe             0.0887      0.126      0.703      0.485      -0.164       0.341\n",
      "pe_1          -0.0040      0.153     -0.026      0.979      -0.310       0.302\n",
      "pe_2           0.0074      0.165      0.045      0.964      -0.323       0.338\n",
      "pe_3           0.0181      0.154      0.118      0.907      -0.289       0.325\n",
      "pe_4           0.0139      0.105      0.133      0.895      -0.196       0.224\n",
      "ww2          -21.3435     11.541     -1.849      0.069     -44.428       1.741\n",
      "pill         -31.0816      3.897     -7.976      0.000     -38.877     -23.287\n",
      "==============================================================================\n",
      "Omnibus:                        3.349   Durbin-Watson:                   0.216\n",
      "Prob(Omnibus):                  0.187   Jarque-Bera (JB):                2.540\n",
      "Skew:                           0.327   Prob(JB):                        0.281\n",
      "Kurtosis:                       2.316   Cond. No.                     1.88e+03\n",
      "==============================================================================\n",
      "\n",
      "Warnings:\n",
      "[1] Standard Errors assume that the covariance matrix of the errors is correctly specified.\n",
      "[2] The condition number is large, 1.88e+03. This might indicate that there are\n",
      "strong multicollinearity or other numerical problems.\n"
     ]
    }
   ],
   "source": [
    "results = smf.ols('gfr ~ pe + pe_1 + pe_2 + pe_3 + pe_4 + ww2 + pill', data=df, subset=None).fit()\n",
    "print(results.summary())"
   ]
  },
  {
   "cell_type": "markdown",
   "metadata": {},
   "source": [
    "### Distributed lag model, adjusted for trend\n",
    "Regression Equation: $\\hat{resid_t}= -13.83 +  0.10{pe_t} -  0.006{pe_{t-1}} +  0.01 {pe_{t-2}} +  0.02{pe_{t-3}} +  0.05{pe_{t-4}} - 21.06{ww2_t} - 13.25{pill_t}$\n",
    "<br><br>\n",
    "Long Run Propensity:<br>\n",
    "$\\hat{LRP}$= 0.10 - 0.006 + 0.01 + 0.02 + 0.05 = .174"
   ]
  },
  {
   "cell_type": "code",
   "execution_count": 9,
   "metadata": {},
   "outputs": [
    {
     "name": "stdout",
     "output_type": "stream",
     "text": [
      "                            OLS Regression Results                            \n",
      "==============================================================================\n",
      "Dep. Variable:                  resid   R-squared:                       0.468\n",
      "Model:                            OLS   Adj. R-squared:                  0.406\n",
      "Method:                 Least Squares   F-statistic:                     7.545\n",
      "Date:                Sun, 28 Jun 2020   Prob (F-statistic):           1.67e-06\n",
      "Time:                        17:15:21   Log-Likelihood:                -264.24\n",
      "No. Observations:                  68   AIC:                             544.5\n",
      "Df Residuals:                      60   BIC:                             562.2\n",
      "Df Model:                           7                                         \n",
      "Covariance Type:            nonrobust                                         \n",
      "==============================================================================\n",
      "                 coef    std err          t      P>|t|      [0.025      0.975]\n",
      "------------------------------------------------------------------------------\n",
      "Intercept    -13.8329      3.052     -4.532      0.000     -19.938      -7.728\n",
      "pe             0.1007      0.116      0.870      0.388      -0.131       0.332\n",
      "pe_1          -0.0064      0.141     -0.046      0.964      -0.288       0.275\n",
      "pe_2           0.0128      0.152      0.085      0.933      -0.290       0.316\n",
      "pe_3           0.0212      0.141      0.150      0.881      -0.261       0.303\n",
      "pe_4           0.0508      0.096      0.527      0.600      -0.142       0.244\n",
      "ww2          -21.0584     10.592     -1.988      0.051     -42.246       0.129\n",
      "pill         -13.2491      3.577     -3.704      0.000     -20.403      -6.095\n",
      "==============================================================================\n",
      "Omnibus:                        2.852   Durbin-Watson:                   0.199\n",
      "Prob(Omnibus):                  0.240   Jarque-Bera (JB):                1.668\n",
      "Skew:                           0.072   Prob(JB):                        0.434\n",
      "Kurtosis:                       2.246   Cond. No.                     1.88e+03\n",
      "==============================================================================\n",
      "\n",
      "Warnings:\n",
      "[1] Standard Errors assume that the covariance matrix of the errors is correctly specified.\n",
      "[2] The condition number is large, 1.88e+03. This might indicate that there are\n",
      "strong multicollinearity or other numerical problems.\n"
     ]
    }
   ],
   "source": [
    "results = smf.ols('resid ~ pe + pe_1 + pe_2 + pe_3 + pe_4 + ww2 + pill', data=df, subset=None).fit()\n",
    "print(results.summary())"
   ]
  },
  {
   "cell_type": "markdown",
   "metadata": {},
   "source": [
    "Using $gfr_t$ as the dependent variable gives $R^2$ ≈.602, compared with about .727\n",
    "if we do not initially detrend. Thus, the equation still explains a fair amount of variation in gfr\n",
    "even after we net out the trend in computing the total variation in gfr. "
   ]
  },
  {
   "cell_type": "code",
   "execution_count": 10,
   "metadata": {},
   "outputs": [
    {
     "name": "stdout",
     "output_type": "stream",
     "text": [
      "<F test: F=array([[0.47465558]]), p=0.624415192730895, df_denom=60, df_num=2>\n",
      "significance level: 7.545428481282991\n",
      "p-value for F-test: 1.6663993648861723e-06\n",
      "\n",
      "test outcome: True\n"
     ]
    }
   ],
   "source": [
    "A = np.identity(len(results.params))\n",
    "A = A[4:6,:]\n",
    "print(results.f_test(A))\n",
    "print(\"significance level: \" + str(results.fvalue))\n",
    "print(\"p-value for F-test: \" + str(results.f_pvalue))\n",
    "print(\"\\ntest outcome: \" + str(results.fvalue > results.f_pvalue))"
   ]
  },
  {
   "cell_type": "code",
   "execution_count": 13,
   "metadata": {},
   "outputs": [
    {
     "name": "stdout",
     "output_type": "stream",
     "text": [
      "The watermark extension is already loaded. To reload it, use:\n",
      "  %reload_ext watermark\n",
      "CPython 3.7.6\n",
      "IPython 7.15.0\n",
      "\n",
      "pandas 1.0.5\n",
      "numpy 1.19.0\n",
      "matplotlib 3.2.2\n",
      "statsmodels 0.11.1\n",
      "watermark 2.0.2\n",
      "\n",
      "compiler   : Clang 11.0.0 (clang-1100.0.33.16)\n",
      "system     : Darwin\n",
      "release    : 18.7.0\n",
      "machine    : x86_64\n",
      "processor  : i386\n",
      "CPU cores  : 12\n",
      "interpreter: 64bit\n",
      " \n",
      "last updated: Sun Jun 28 2020 17:23:43 CDT\n"
     ]
    }
   ],
   "source": [
    "# print dependencies\n",
    "\n",
    "%load_ext watermark\n",
    "\n",
    "# python, packages, and machine characteristics \n",
    "%watermark -v -m -p pandas,numpy,matplotlib,statsmodels,watermark \n",
    "\n",
    "# date\n",
    "print(\" \") \n",
    "%watermark -u -n -t -z"
   ]
  },
  {
   "cell_type": "markdown",
   "metadata": {},
   "source": []
  },
  {
   "cell_type": "code",
   "execution_count": null,
   "metadata": {},
   "outputs": [],
   "source": []
  },
  {
   "cell_type": "code",
   "execution_count": null,
   "metadata": {},
   "outputs": [],
   "source": []
  },
  {
   "cell_type": "code",
   "execution_count": null,
   "metadata": {},
   "outputs": [],
   "source": []
  },
  {
   "cell_type": "code",
   "execution_count": null,
   "metadata": {},
   "outputs": [],
   "source": []
  },
  {
   "cell_type": "code",
   "execution_count": null,
   "metadata": {},
   "outputs": [],
   "source": []
  },
  {
   "cell_type": "code",
   "execution_count": null,
   "metadata": {},
   "outputs": [],
   "source": []
  },
  {
   "cell_type": "code",
   "execution_count": null,
   "metadata": {},
   "outputs": [],
   "source": []
  },
  {
   "cell_type": "code",
   "execution_count": null,
   "metadata": {},
   "outputs": [],
   "source": []
  },
  {
   "cell_type": "code",
   "execution_count": null,
   "metadata": {},
   "outputs": [],
   "source": []
  },
  {
   "cell_type": "code",
   "execution_count": null,
   "metadata": {},
   "outputs": [],
   "source": []
  },
  {
   "cell_type": "code",
   "execution_count": null,
   "metadata": {},
   "outputs": [],
   "source": []
  },
  {
   "cell_type": "code",
   "execution_count": null,
   "metadata": {},
   "outputs": [],
   "source": []
  },
  {
   "cell_type": "code",
   "execution_count": null,
   "metadata": {},
   "outputs": [],
   "source": []
  },
  {
   "cell_type": "code",
   "execution_count": null,
   "metadata": {},
   "outputs": [],
   "source": []
  },
  {
   "cell_type": "code",
   "execution_count": null,
   "metadata": {},
   "outputs": [],
   "source": []
  },
  {
   "cell_type": "code",
   "execution_count": null,
   "metadata": {},
   "outputs": [],
   "source": []
  },
  {
   "cell_type": "code",
   "execution_count": null,
   "metadata": {},
   "outputs": [],
   "source": []
  },
  {
   "cell_type": "code",
   "execution_count": null,
   "metadata": {},
   "outputs": [],
   "source": []
  },
  {
   "cell_type": "code",
   "execution_count": null,
   "metadata": {},
   "outputs": [],
   "source": []
  }
 ],
 "metadata": {
  "kernelspec": {
   "display_name": "Python 3",
   "language": "python",
   "name": "python3"
  },
  "language_info": {
   "codemirror_mode": {
    "name": "ipython",
    "version": 3
   },
   "file_extension": ".py",
   "mimetype": "text/x-python",
   "name": "python",
   "nbconvert_exporter": "python",
   "pygments_lexer": "ipython3",
   "version": "3.7.6"
  }
 },
 "nbformat": 4,
 "nbformat_minor": 4
}
